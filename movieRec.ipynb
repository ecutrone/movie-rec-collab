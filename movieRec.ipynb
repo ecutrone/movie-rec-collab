{
 "cells": [
  {
   "cell_type": "code",
   "execution_count": null,
   "metadata": {
    "collapsed": true
   },
   "outputs": [],
   "source": []
  },
  {
   "cell_type": "code",
   "execution_count": 21,
   "metadata": {
    "collapsed": false
   },
   "outputs": [
    {
     "name": "stdout",
     "output_type": "stream",
     "text": [
      "671\n",
      "9066\n",
      "(9066, 671)\n"
     ]
    }
   ],
   "source": [
    "#movie rec using collaborative data and matrix factorization\n",
    "import csv\n",
    "import string\n",
    "import numpy as np\n",
    "import pandas as pd\n",
    "import matplotlib.pyplot as plt\n",
    "import sklearn as sk\n",
    "from scipy import optimize\n",
    "from sklearn.decomposition import TruncatedSVD\n",
    "\n",
    "#some code from http://alexabate.github.io/2016/11/05/movie-lens.html\n",
    "#some code from https://nikhilwins.wordpress.com/2015/09/18/movie-recommendations-how-does-netflix-do-it-a-9-step-coding-intuitive-guide-into-collaborative-filtering/\n",
    "\n",
    "user_item_ratings = pd.read_csv('ratings.csv', sep=',')\n",
    "#user_item_ratings.head()\n",
    "number_of_unique_users = len(user_item_ratings['userId'].unique())\n",
    "number_of_unique_movies = len(user_item_ratings['movieId'].unique())\n",
    "number_of_ratings = len(user_item_ratings)\n",
    "#print user_item_ratings\n",
    "print number_of_unique_users\n",
    "print number_of_unique_movies\n",
    "\n",
    "ratingsMatrix=pd.pivot_table(user_item_ratings, values='rating', fill_value=0, columns='userId', index='movieId')#\n",
    "#print ratingsMatrix.head\n",
    "\n",
    "#ratingsMatrix=ratingsMatrix.iloc[:100,:]\n",
    "\n",
    "print ratingsMatrix.shape"
   ]
  },
  {
   "cell_type": "code",
   "execution_count": 22,
   "metadata": {
    "collapsed": false,
    "scrolled": true
   },
   "outputs": [
    {
     "name": "stdout",
     "output_type": "stream",
     "text": [
      "(9066, 671)\n"
     ]
    }
   ],
   "source": [
    "did_rate = (ratingsMatrix != 0) * 1\n",
    "print did_rate.shape\n",
    "#idx = np.where(did_rate.loc[30,:] ==1)[0]\n",
    "#print did_rate[10,:]\n",
    "#idx = np.where(did_rate.iloc[1,:] ==1)[0]\n",
    "#print idx\n",
    "#print ratingsMatrix.iloc[1,idx]\n",
    "#print np.mean(ratingsMatrix.loc[1,idx+1])"
   ]
  },
  {
   "cell_type": "code",
   "execution_count": 23,
   "metadata": {
    "collapsed": false,
    "scrolled": true
   },
   "outputs": [],
   "source": [
    "#n_movies=number_of_unique_movies\n",
    "n_movies=ratingsMatrix.shape[0]\n",
    "n_users=number_of_unique_users\n",
    "\n",
    "\n",
    "#normalize_ratings from https://nikhilwins.wordpress.com/2015/09/18/movie-recommendations-how-does-netflix-do-it-a-9-step-coding-intuitive-guide-into-collaborative-filtering/\n",
    "def normalize_ratings(ratings, did_rate):\n",
    "    num_movies = ratings.shape[0]\n",
    "    ratings_mean = np.zeros(shape = (num_movies, 1))\n",
    "    ratings_norm = np.zeros(shape = ratings.shape)\n",
    "    \n",
    "    for i in range(0, num_movies):\n",
    "        # Get all the indexes where there is a 1\n",
    "        idx = np.where(did_rate.iloc[i,:] ==1)[0]\n",
    "        # Calculate mean rating of ith movie only from users that gave a rating\n",
    "        ratings_mean[i] = np.mean(ratings.iloc[i, idx])\n",
    "         #ratings_mean[i]\n",
    "        ratings_norm[i, idx] = ratings.iloc[i, idx] - ratings_mean[i]\n",
    "        #(EKC: make sure these indices aren't off by one)\n",
    "        #print i\n",
    "    return (ratings_norm, ratings_mean)\n",
    "\n",
    "\n",
    "ratings_norm, ratings_mean = normalize_ratings(ratingsMatrix, did_rate)\n"
   ]
  },
  {
   "cell_type": "code",
   "execution_count": 24,
   "metadata": {
    "collapsed": true
   },
   "outputs": [],
   "source": [
    "# code for gradient descent from https://nikhilwins.wordpress.com/2015/09/18/movie-recommendations-how-does-netflix-do-it-a-9-step-coding-intuitive-guide-into-collaborative-filtering/\n",
    "\n",
    "\n",
    "def unroll_params(X_and_theta, num_users, num_movies, num_features):\n",
    "    # Retrieve the X and theta matrixes from X_and_theta, based on their dimensions (num_features, num_movies, num_movies)\n",
    "    # --------------------------------------------------------------------------------------------------------------\n",
    "    # Get the first (movies * features) rows in the column vector\n",
    "    first_30 = X_and_theta[:num_movies * num_features]\n",
    "    #(EKC--doesn't this give you the last 30 not the first? does it have to do with the way things are flattened?)\n",
    "    # Reshape this column vector into a matrix\n",
    "    X = first_30.reshape((num_features, num_movies)).transpose()\n",
    "    # Get the rest of the numbers\n",
    "    last_18 = X_and_theta[num_movies * num_features:]\n",
    "    # Reshape this column vector into a 6 X 3 matrix\n",
    "    theta = last_18.reshape(num_features, num_users ).transpose()\n",
    "    return X, theta\n",
    "\n",
    "\n",
    "\n",
    "\n",
    "def calculate_gradient(X_and_theta, ratings, did_rate, num_users, num_movies, num_features, reg_param):\n",
    "    X, theta = unroll_params(X_and_theta, num_users, num_movies, num_features)\n",
    "    \n",
    "    # we multiply by did_rate because we only want to consider observations for which a rating was given\n",
    "    difference = X.dot( theta.T ) * did_rate - ratings\n",
    "    X_grad = difference.dot( theta ) + reg_param * X\n",
    "    theta_grad = difference.T.dot( X ) + reg_param * theta\n",
    "    \n",
    "    # wrap the gradients back into a column vector \n",
    "    return np.concatenate((X_init.T.flatten(), B_init.T.flatten()))\n",
    "\n",
    "\n",
    "\n",
    "\n",
    "def calculate_cost(X_and_theta, ratings, did_rate, num_users, num_movies, num_features, reg_param):\n",
    "    X, theta = unroll_params(X_and_theta, num_users, num_movies, num_features)\n",
    "    \n",
    "    # we multiply (element-wise) by did_rate because we only want to consider observations for which a rating was given\n",
    "    cost = np.sum( (X.dot( theta.T ) * did_rate - ratings) ** 2 ) / 2\n",
    "    # '**' means an element-wise power\n",
    "    regularization = (reg_param / 2) * (np.sum( theta**2 ) + np.sum(X**2))\n",
    "    #(EKC--changed the above from sum to np.sum)\n",
    "    return cost + regularization"
   ]
  },
  {
   "cell_type": "code",
   "execution_count": 25,
   "metadata": {
    "collapsed": false
   },
   "outputs": [],
   "source": [
    "did_rate=did_rate.as_matrix()"
   ]
  },
  {
   "cell_type": "code",
   "execution_count": 26,
   "metadata": {
    "collapsed": false
   },
   "outputs": [
    {
     "name": "stdout",
     "output_type": "stream",
     "text": [
      "671\n",
      "9066\n",
      "(29211,)\n",
      "(9066, 3)\n",
      "(671, 3)\n",
      "(9066, 671)\n",
      "72954.3948964\n"
     ]
    }
   ],
   "source": [
    "#use normalized ratings\n",
    "#actually use random ratings in a small matrix first, to test\n",
    "\n",
    "n_features=3\n",
    "\n",
    "n_users=number_of_unique_users\n",
    "n_movies=ratingsMatrix.shape[0]\n",
    "#n_movies=number_of_unique_movies\n",
    "#n_users=3\n",
    "#n_movies=4\n",
    "print n_users\n",
    "print n_movies\n",
    "\n",
    "X_init=np.random.rand(n_movies, n_features)\n",
    "B_init=np.random.rand(n_features, n_users)\n",
    "#print B_init\n",
    "predicted_ratings=X_init.dot(B_init) \n",
    "\n",
    "fake_ratings=np.random.rand(n_movies, n_users)\n",
    "fake_did_rate = (fake_ratings != 0) * 1\n",
    "\n",
    "\n",
    "#print ratings_norm.shape\n",
    "#print fake_ratings.shape\n",
    "\n",
    "#(the next dozen lines or so just test some of the methods)\n",
    "\n",
    "initial_X_and_B = np.concatenate((X_init.T.flatten(), B_init.T.flatten()))\n",
    "print initial_X_and_B.shape\n",
    "\n",
    "reg_param=1.0 #(EKC: adjust as needed)\n",
    "\n",
    "X, B = unroll_params(initial_X_and_B, n_users, n_movies, n_features)\n",
    "#EKC - checked that these come back out the right way, using small random test arrays. \n",
    "print X.shape\n",
    "print B.shape\n",
    "\n",
    "difference=X.dot( B.T ) * did_rate - ratings_norm\n",
    "print difference.shape\n",
    "cost=np.sum(( difference) ** 2 ) / 2\n",
    "print cost\n"
   ]
  },
  {
   "cell_type": "code",
   "execution_count": null,
   "metadata": {
    "collapsed": false
   },
   "outputs": [],
   "source": []
  },
  {
   "cell_type": "code",
   "execution_count": 27,
   "metadata": {
    "collapsed": false
   },
   "outputs": [],
   "source": [
    "\n",
    "#minimized_cost_and_optimal_params = optimize.fmin_cg(calculate_cost, fprime=calculate_gradient, x0=initial_X_and_B, args=(ratings_norm, did_rate, n_users, n_movies, n_features, reg_param), maxiter=100, disp=True, full_output=True ) \n",
    "\n",
    "#(something is going on here, it never iterates. maybe an issue with step size?)\n"
   ]
  },
  {
   "cell_type": "code",
   "execution_count": null,
   "metadata": {
    "collapsed": false
   },
   "outputs": [],
   "source": [
    "\n",
    "\n",
    "\n"
   ]
  },
  {
   "cell_type": "code",
   "execution_count": null,
   "metadata": {
    "collapsed": false
   },
   "outputs": [],
   "source": []
  },
  {
   "cell_type": "code",
   "execution_count": 34,
   "metadata": {
    "collapsed": false
   },
   "outputs": [
    {
     "name": "stdout",
     "output_type": "stream",
     "text": [
      "5711163.55612\n",
      "243180819047.0\n",
      "2.73587644238e+25\n",
      "4.39872152003e+67\n",
      "1.94082780539e+194\n",
      "inf\n",
      "nan\n",
      "7\n"
     ]
    }
   ],
   "source": [
    "\n",
    "#grad descent for cost\n",
    "#some code for computing cost and gradient from https://nikhilwins.wordpress.com/2015/09/18/movie-recommendations-how-does-netflix-do-it-a-9-step-coding-intuitive-guide-into-collaborative-filtering/\n",
    "\n",
    "#this one iterates but crashes or runs out of memory \n",
    "\n",
    "X=X_init\n",
    "B=B_init\n",
    "    \n",
    "difference=X.dot( B ) * did_rate - ratingsMatrix.as_matrix()\n",
    "regularization= (reg_param / 2) * (np.sum( B_init**2 ) + np.sum(X_init**2))\n",
    "cost=np.sum(( difference ) ** 2 ) / 2 + regularization\n",
    "\n",
    "alpha=.0007 #something close to this value works for alpha; .001 is too big.\n",
    "iter=0\n",
    "\n",
    "#there should probably be other stopping criteria: e.g. if the gradient (not the cost) is small\n",
    "#also if the cost isn't consistently decreasing (probably meaning alpha is too big)\n",
    "while cost>100 and iter<20:   \n",
    "    # we calculate the gradients (derivatives) of the cost with respect to X and theta\n",
    "    X_grad = difference.dot( B.T ) + reg_param * X\n",
    "    B_grad = difference.T.dot( X ).T + reg_param * B\n",
    "    # (if there's a problem here something probably just has to be transposed--check that it's still right.)\n",
    "    \n",
    "    X=X-X_grad*alpha\n",
    "    B=B-B_grad*alpha #(same alpha?)\n",
    "    difference=X.dot( B ) * did_rate - ratingsMatrix.as_matrix()\n",
    "    cost=np.sum(( difference ) ** 2 ) / 2 + regularization\n",
    "    iter=iter+1\n",
    "    print cost\n",
    "print iter\n"
   ]
  },
  {
   "cell_type": "code",
   "execution_count": null,
   "metadata": {
    "collapsed": true
   },
   "outputs": [],
   "source": []
  },
  {
   "cell_type": "code",
   "execution_count": 10,
   "metadata": {
    "collapsed": true
   },
   "outputs": [],
   "source": [
    "\n",
    "# use (leave-1-or-some-out) cross-validation - split into test and train sets \n",
    "# and only train the model based on the training set--create did_rate_train, which has zeros in all the rows\n",
    "# representing the test users, so that error in those predictions does not contribute to the cost, i.e., doesn't\n",
    "# train the model.\n",
    "#(also put zeros in y_train? or no?)"
   ]
  },
  {
   "cell_type": "code",
   "execution_count": null,
   "metadata": {
    "collapsed": true
   },
   "outputs": [],
   "source": []
  }
 ],
 "metadata": {
  "kernelspec": {
   "display_name": "Python 2",
   "language": "python",
   "name": "python2"
  },
  "language_info": {
   "codemirror_mode": {
    "name": "ipython",
    "version": 2
   },
   "file_extension": ".py",
   "mimetype": "text/x-python",
   "name": "python",
   "nbconvert_exporter": "python",
   "pygments_lexer": "ipython2",
   "version": "2.7.10"
  }
 },
 "nbformat": 4,
 "nbformat_minor": 0
}
