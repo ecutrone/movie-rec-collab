{
 "cells": [
  {
   "cell_type": "code",
   "execution_count": 39,
   "metadata": {
    "collapsed": false
   },
   "outputs": [
    {
     "name": "stdout",
     "output_type": "stream",
     "text": [
      "671\n",
      "9066\n",
      "(5000, 671)\n",
      "(5000, 3)\n",
      "29637.9322878\n"
     ]
    }
   ],
   "source": [
    "#movie rec using collaborative data and matrix factorization\n",
    "import csv\n",
    "import string\n",
    "import numpy as np\n",
    "import pandas as pd\n",
    "import matplotlib.pyplot as plt\n",
    "import sklearn as sk\n",
    "from scipy import optimize\n",
    "from sklearn.decomposition import TruncatedSVD\n",
    "from sklearn.cross_validation import train_test_split\n",
    "\n",
    "#some code from http://alexabate.github.io/2016/11/05/movie-lens.html\n",
    "#some code from https://nikhilwins.wordpress.com/2015/09/18/movie-recommendations-how-does-netflix-do-it-a-9-step-coding-intuitive-guide-into-collaborative-filtering/\n",
    "\n",
    "user_item_ratings = pd.read_csv('ratings.csv', sep=',')\n",
    "#user_item_ratings.head()\n",
    "number_of_unique_users = len(user_item_ratings['userId'].unique())\n",
    "number_of_unique_movies = len(user_item_ratings['movieId'].unique())\n",
    "number_of_ratings = len(user_item_ratings)\n",
    "#print user_item_ratings\n",
    "print number_of_unique_users\n",
    "print number_of_unique_movies\n",
    "\n",
    "ratingsMatrix=pd.pivot_table(user_item_ratings, values='rating', fill_value=0, columns='userId', index='movieId')#\n",
    "#print ratingsMatrix.head\n",
    "\n",
    "ratingsMatrix2=ratingsMatrix.iloc[:5000,:]\n",
    "\n",
    "print ratingsMatrix2.shape\n",
    "\n",
    "did_rate = (ratingsMatrix2 != 0) * 1\n",
    "\n",
    "\n",
    "#n_movies=number_of_unique_movies\n",
    "n_movies=ratingsMatrix2.shape[0]\n",
    "n_users=number_of_unique_users\n",
    "\n",
    "\n",
    "#normalize_ratings from https://nikhilwins.wordpress.com/2015/09/18/movie-recommendations-how-does-netflix-do-it-a-9-step-coding-intuitive-guide-into-collaborative-filtering/\n",
    "def normalize_ratings(ratings, did_rate):\n",
    "    num_movies = ratings.shape[0]\n",
    "    ratings_mean = np.zeros(shape = (num_movies, 1))\n",
    "    ratings_norm = np.zeros(shape = ratings.shape)\n",
    "    \n",
    "    for i in range(0, num_movies):\n",
    "        # Get all the indexes where there is a 1\n",
    "        idx = np.where(did_rate.iloc[i,:] ==1)[0]\n",
    "        # Calculate mean rating of ith movie only from users that gave a rating\n",
    "        ratings_mean[i] = np.mean(ratings.iloc[i, idx])\n",
    "         #ratings_mean[i]\n",
    "        ratings_norm[i, idx] = ratings.iloc[i, idx] - ratings_mean[i]\n",
    "        #(EKC: make sure these indices aren't off by one)\n",
    "        #print i\n",
    "    return (ratings_norm, ratings_mean)\n",
    "\n",
    "ratings_norm, ratings_mean = normalize_ratings(ratingsMatrix2, did_rate)\n",
    "\n",
    "did_rate=did_rate.as_matrix()\n",
    "\n",
    "svd = TruncatedSVD(n_components=3, n_iter=10, random_state=42)\n",
    "X_tr = svd.fit_transform(ratings_norm)\n",
    "print X_tr.shape\n",
    "\n",
    "X_o = svd.inverse_transform(X_tr)\n",
    "#that would be the predicted ratings\n",
    "difference = X_o*did_rate-ratings_norm\n",
    "cost = np.sum((difference)**2)/2\n",
    "print cost"
   ]
  },
  {
   "cell_type": "code",
   "execution_count": 40,
   "metadata": {
    "collapsed": false
   },
   "outputs": [
    {
     "name": "stdout",
     "output_type": "stream",
     "text": [
      "(4066, 671)\n",
      "(4066, 671)\n",
      "5611.34021819\n"
     ]
    }
   ],
   "source": [
    "ratings_test=ratingsMatrix.iloc[5000:,:]\n",
    "print ratings_test.shape\n",
    "did_rate_test= (ratings_test != 0) * 1\n",
    "ratings_test_norm, test_mean=normalize_ratings(ratings_test, did_rate_test)\n",
    "did_rate_test=did_rate_test.as_matrix()\n",
    "\n",
    "print ratings_test_norm.shape\n",
    "X_t_test=svd.transform(ratings_test_norm)\n",
    "#this transforms the ratings_test_norm matrix using the model fit to ratings_norm\n",
    "X_o_test = svd.inverse_transform(X_t_test)\n",
    "#that would be the predicted ratings\n",
    "difference_test = X_o_test*did_rate_test-ratings_test_norm\n",
    "cost_test = np.sum((difference_test)**2)/2\n",
    "print cost_test\n",
    "\n"
   ]
  },
  {
   "cell_type": "raw",
   "metadata": {},
   "source": [
    "\n",
    "\n",
    "# get back the latent features using matrix multplication? (i have both X and its transformation)\n",
    "# X_o=X_tr*Beta (Beta=theta, I don't know why I use Beta instead) \n",
    "# (there must be a way to access from svd using sklearn though)\n",
    "Beta=X_tr.T.dot(X_o)\n",
    "print Beta.shape\n",
    "# (this describes each user's weights, or inferred preference, for each feature)\n",
    "\n",
    "# and that should be equal to what you get using the transformed (and inverse-transformed) test data\n",
    "# if the model is the same. check:\n",
    "Beta_test=X_t_test.T.dot(X_o_test)\n",
    "print np.sum(Beta-Beta_test)\n",
    "#(it's basically zero, just some rounding/precision error accumulated)"
   ]
  },
  {
   "cell_type": "code",
   "execution_count": 51,
   "metadata": {
    "collapsed": false
   },
   "outputs": [],
   "source": [
    "# can do cross-validation using different random splits of the data to train and test the model \n",
    "# train and test different models on the SAME splits for most direct model comparison\n",
    "# (e.g., to see whether adding features is helpful)\n",
    "n_iter=1000\n",
    "cost_train=np.zeros(shape = (n_iter, 1))\n",
    "cost_test=np.zeros(shape = (n_iter, 1))\n",
    "cost2_train=np.zeros(shape = (n_iter, 1))\n",
    "cost2_test=np.zeros(shape = (n_iter, 1))\n",
    "\n",
    "test_cost_diffs=np.zeros(shape = (n_iter, 1))\n",
    "\n",
    "\n",
    "\n",
    "did_rate=(ratingsMatrix != 0) * 1\n",
    "\n",
    "ratings_norm, ratings_mean = normalize_ratings(ratingsMatrix, did_rate)\n",
    "\n",
    "did_rate=did_rate.as_matrix()\n",
    "\n",
    "for i in range(0,n_iter):\n",
    "    traindata, testdata, did_rate_train, did_rate_test = train_test_split(ratings_norm, did_rate, test_size=0.5)\n",
    "    svd = TruncatedSVD(n_components=3, n_iter=10, random_state=42)\n",
    "    X_tr = svd.fit_transform(traindata)\n",
    "    \n",
    "    X_o = svd.inverse_transform(X_tr)\n",
    "    #that would be the predicted ratings\n",
    "    difference = X_o*did_rate_train-traindata\n",
    "    cost_train[i] = np.sum((difference)**2)/2\n",
    "    \n",
    "    X_t_test=svd.transform(testdata)\n",
    "    #this transforms the ratings_test_norm matrix using the model fit to ratings_norm\n",
    "    X_o_test = svd.inverse_transform(X_t_test)\n",
    "    #that would be the predicted ratings\n",
    "    difference_test = X_o_test*did_rate_test-testdata\n",
    "    cost_test[i] = (np.sum((difference_test)**2)/2)    \n",
    "    \n",
    "    svd2 = TruncatedSVD(n_components=4, n_iter=10, random_state=42)\n",
    "    X2_tr = svd2.fit_transform(traindata)\n",
    "    \n",
    "    X2_o = svd2.inverse_transform(X2_tr)\n",
    "    #that would be the predicted ratings\n",
    "    difference2 = X2_o*did_rate_train-traindata\n",
    "    cost2_train[i] = np.sum((difference2)**2)/2\n",
    "    \n",
    "    X2_t_test=svd2.transform(testdata)\n",
    "    #this transforms the ratings_test_norm matrix using the model fit to ratings_norm\n",
    "    X2_o_test = svd2.inverse_transform(X2_t_test)\n",
    "    #that would be the predicted ratings\n",
    "    difference2_test = X2_o_test*did_rate_test-testdata\n",
    "    cost2_test[i] = np.sum((difference2_test)**2)/2\n",
    "    \n",
    "    \n",
    "    test_cost_diffs[i]=cost2_test[i]-cost_test[i]\n",
    "    #this is a measure of how much better the second model is\n",
    "\n",
    "\n",
    "#(should probably rewrite to save all the test/train splits for testing other models)"
   ]
  },
  {
   "cell_type": "code",
   "execution_count": 53,
   "metadata": {
    "collapsed": true
   },
   "outputs": [],
   "source": [
    "n, bins, patches=plt.hist(test_cost_diffs, 10)\n",
    "plt.xlabel('Cost difference')\n",
    "plt.ylabel('Frequency')\n",
    "plt.title('Model comparison')\n",
    "#plt.text(60, .025, r'$\\mu=100,\\ \\sigma=15$')\n",
    "plt.axis([-500, -200, 0, 500])\n",
    "plt.grid(True)\n",
    "plt.show()"
   ]
  },
  {
   "cell_type": "code",
   "execution_count": 43,
   "metadata": {
    "collapsed": false
   },
   "outputs": [
    {
     "name": "stdout",
     "output_type": "stream",
     "text": [
      "[[-435.8477832 ]\n",
      " [-388.42043078]\n",
      " [-368.7507882 ]\n",
      " [-419.32171996]\n",
      " [-407.69260283]\n",
      " [-402.05867992]\n",
      " [-398.15633128]\n",
      " [-425.92122591]\n",
      " [-390.84861837]\n",
      " [-359.97395756]\n",
      " [-416.30141893]\n",
      " [-392.17500656]\n",
      " [-442.26922102]\n",
      " [-383.69323408]\n",
      " [-438.32464565]\n",
      " [-442.73210042]\n",
      " [-418.23800985]\n",
      " [-371.78929363]\n",
      " [-420.61797945]\n",
      " [-422.89823273]\n",
      " [-367.49801518]\n",
      " [-397.56726353]\n",
      " [-426.8612925 ]\n",
      " [-354.4091959 ]\n",
      " [-468.02442752]\n",
      " [-425.08863937]\n",
      " [-406.94742992]\n",
      " [-388.23638091]\n",
      " [-438.51770251]\n",
      " [-419.983247  ]\n",
      " [-397.21092158]\n",
      " [-413.92576491]\n",
      " [-447.85884275]\n",
      " [-427.39003468]\n",
      " [-419.49069455]\n",
      " [-423.1983878 ]\n",
      " [-392.79093365]\n",
      " [-405.97336599]\n",
      " [-381.40350079]\n",
      " [-394.08623951]\n",
      " [-396.29144228]\n",
      " [-435.99055715]\n",
      " [-457.17357444]\n",
      " [-443.93348443]\n",
      " [-449.6723652 ]\n",
      " [-353.76239241]\n",
      " [-400.28486027]\n",
      " [-403.81071084]\n",
      " [-401.08142958]\n",
      " [-405.14843546]]\n"
     ]
    }
   ],
   "source": []
  },
  {
   "cell_type": "code",
   "execution_count": null,
   "metadata": {
    "collapsed": true
   },
   "outputs": [],
   "source": []
  }
 ],
 "metadata": {
  "kernelspec": {
   "display_name": "Python 2",
   "language": "python",
   "name": "python2"
  },
  "language_info": {
   "codemirror_mode": {
    "name": "ipython",
    "version": 2
   },
   "file_extension": ".py",
   "mimetype": "text/x-python",
   "name": "python",
   "nbconvert_exporter": "python",
   "pygments_lexer": "ipython2",
   "version": "2.7.10"
  }
 },
 "nbformat": 4,
 "nbformat_minor": 0
}
