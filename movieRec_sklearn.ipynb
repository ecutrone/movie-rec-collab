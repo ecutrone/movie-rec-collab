{
 "cells": [
  {
   "cell_type": "code",
   "execution_count": 17,
   "metadata": {
    "collapsed": false
   },
   "outputs": [
    {
     "name": "stdout",
     "output_type": "stream",
     "text": [
      "671\n",
      "9066\n",
      "(5000, 671)\n",
      "(5000, 3)\n",
      "29637.9322878\n"
     ]
    }
   ],
   "source": [
    "#movie rec using collaborative data and matrix factorization\n",
    "import csv\n",
    "import string\n",
    "import numpy as np\n",
    "import pandas as pd\n",
    "import matplotlib.pyplot as plt\n",
    "import sklearn as sk\n",
    "from scipy import optimize\n",
    "from sklearn.decomposition import TruncatedSVD\n",
    "\n",
    "#some code from http://alexabate.github.io/2016/11/05/movie-lens.html\n",
    "#some code from https://nikhilwins.wordpress.com/2015/09/18/movie-recommendations-how-does-netflix-do-it-a-9-step-coding-intuitive-guide-into-collaborative-filtering/\n",
    "\n",
    "user_item_ratings = pd.read_csv('ratings.csv', sep=',')\n",
    "#user_item_ratings.head()\n",
    "number_of_unique_users = len(user_item_ratings['userId'].unique())\n",
    "number_of_unique_movies = len(user_item_ratings['movieId'].unique())\n",
    "number_of_ratings = len(user_item_ratings)\n",
    "#print user_item_ratings\n",
    "print number_of_unique_users\n",
    "print number_of_unique_movies\n",
    "\n",
    "ratingsMatrix=pd.pivot_table(user_item_ratings, values='rating', fill_value=0, columns='userId', index='movieId')#\n",
    "#print ratingsMatrix.head\n",
    "\n",
    "ratingsMatrix2=ratingsMatrix.iloc[:5000,:]\n",
    "\n",
    "print ratingsMatrix2.shape\n",
    "\n",
    "did_rate = (ratingsMatrix2 != 0) * 1\n",
    "\n",
    "\n",
    "#n_movies=number_of_unique_movies\n",
    "n_movies=ratingsMatrix2.shape[0]\n",
    "n_users=number_of_unique_users\n",
    "\n",
    "\n",
    "#normalize_ratings from https://nikhilwins.wordpress.com/2015/09/18/movie-recommendations-how-does-netflix-do-it-a-9-step-coding-intuitive-guide-into-collaborative-filtering/\n",
    "def normalize_ratings(ratings, did_rate):\n",
    "    num_movies = ratings.shape[0]\n",
    "    ratings_mean = np.zeros(shape = (num_movies, 1))\n",
    "    ratings_norm = np.zeros(shape = ratings.shape)\n",
    "    \n",
    "    for i in range(0, num_movies):\n",
    "        # Get all the indexes where there is a 1\n",
    "        idx = np.where(did_rate.iloc[i,:] ==1)[0]\n",
    "        # Calculate mean rating of ith movie only from users that gave a rating\n",
    "        ratings_mean[i] = np.mean(ratings.iloc[i, idx])\n",
    "         #ratings_mean[i]\n",
    "        ratings_norm[i, idx] = ratings.iloc[i, idx] - ratings_mean[i]\n",
    "        #(EKC: make sure these indices aren't off by one)\n",
    "        #print i\n",
    "    return (ratings_norm, ratings_mean)\n",
    "\n",
    "ratings_norm, ratings_mean = normalize_ratings(ratingsMatrix2, did_rate)\n",
    "\n",
    "did_rate=did_rate.as_matrix()\n",
    "\n",
    "svd = TruncatedSVD(n_components=3, n_iter=10, random_state=42)\n",
    "X_tr = svd.fit_transform(ratings_norm)\n",
    "print X_tr.shape\n",
    "\n",
    "X_o = svd.inverse_transform(X_tr)\n",
    "#that would be the predicted ratings\n",
    "difference = X_o*did_rate-ratings_norm\n",
    "cost = np.sum((difference)**2)/2\n",
    "print cost"
   ]
  },
  {
   "cell_type": "code",
   "execution_count": 18,
   "metadata": {
    "collapsed": false
   },
   "outputs": [
    {
     "name": "stdout",
     "output_type": "stream",
     "text": [
      "(4066, 671)\n",
      "(4066, 671)\n",
      "5611.34021819\n"
     ]
    }
   ],
   "source": [
    "ratings_test=ratingsMatrix.iloc[5000:,:]\n",
    "print ratings_test.shape\n",
    "did_rate_test= (ratings_test != 0) * 1\n",
    "ratings_test_norm, test_mean=normalize_ratings(ratings_test, did_rate_test)\n",
    "did_rate_test=did_rate_test.as_matrix()\n",
    "\n",
    "print ratings_test_norm.shape\n",
    "X_t_test=svd.transform(ratings_test_norm)\n",
    "#this transforms the ratings_test_norm matrix using the model fit to ratings_norm\n",
    "X_o_test = svd.inverse_transform(X_t_test)\n",
    "#that would be the predicted ratings\n",
    "difference_test = X_o_test*did_rate_test-ratings_test_norm\n",
    "cost_test = np.sum((difference_test)**2)/2\n",
    "print cost_test\n",
    "\n"
   ]
  },
  {
   "cell_type": "code",
   "execution_count": 24,
   "metadata": {
    "collapsed": false
   },
   "outputs": [
    {
     "name": "stdout",
     "output_type": "stream",
     "text": [
      "(3, 671)\n",
      "-7.83757059253e-10\n"
     ]
    }
   ],
   "source": [
    "\n",
    "\n",
    "# get back the latent features using matrix multplication? (i have both X and its transformation)\n",
    "# X_o=X_tr*Beta (Beta=theta, I don't know why I use Beta instead) \n",
    "# (there must be a way to access from svd using sklearn though)\n",
    "Beta=X_tr.T.dot(X_o)\n",
    "print Beta.shape\n",
    "# (this describes each user's weights, or inferred preference, for each feature)\n",
    "\n",
    "# and that should be equal to what you get using the transformed (and inverse-transformed) test data\n",
    "# if the model is the same. check:\n",
    "Beta_test=X_t_test.T.dot(X_o_test)\n",
    "print np.sum(Beta-Beta_test)\n",
    "#(it's basically zero, just some rounding/precision error accumulated)"
   ]
  },
  {
   "cell_type": "code",
   "execution_count": null,
   "metadata": {
    "collapsed": true
   },
   "outputs": [],
   "source": [
    "# can do cross-validation using different random splits of the data to train and test the model \n",
    "# train and test different models on the SAME splits for most direct model comparison\n",
    "# (e.g., to see whether adding features is helpful)"
   ]
  }
 ],
 "metadata": {
  "kernelspec": {
   "display_name": "Python 2",
   "language": "python",
   "name": "python2"
  },
  "language_info": {
   "codemirror_mode": {
    "name": "ipython",
    "version": 2
   },
   "file_extension": ".py",
   "mimetype": "text/x-python",
   "name": "python",
   "nbconvert_exporter": "python",
   "pygments_lexer": "ipython2",
   "version": "2.7.10"
  }
 },
 "nbformat": 4,
 "nbformat_minor": 0
}
