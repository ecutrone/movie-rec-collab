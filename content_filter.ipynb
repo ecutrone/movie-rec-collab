{
 "cells": [
  {
   "cell_type": "code",
   "execution_count": 1,
   "metadata": {
    "collapsed": false
   },
   "outputs": [
    {
     "name": "stdout",
     "output_type": "stream",
     "text": [
      "671\n",
      "9066\n",
      "(5000, 671)\n",
      "(9066, 3)\n",
      "35267.1025259\n"
     ]
    }
   ],
   "source": [
    "#movie rec using collaborative data and matrix factorization\n",
    "import csv\n",
    "import string\n",
    "import numpy as np\n",
    "import pandas as pd\n",
    "import matplotlib.pyplot as plt\n",
    "import sklearn as sk\n",
    "from scipy import optimize\n",
    "from sklearn.decomposition import TruncatedSVD\n",
    "from sklearn.cross_validation import train_test_split\n",
    "\n",
    "#some code from http://alexabate.github.io/2016/11/05/movie-lens.html\n",
    "#some code from https://nikhilwins.wordpress.com/2015/09/18/movie-recommendations-how-does-netflix-do-it-a-9-step-coding-intuitive-guide-into-collaborative-filtering/\n",
    "\n",
    "user_item_ratings = pd.read_csv('ratings.csv', sep=',')\n",
    "#user_item_ratings.head()\n",
    "number_of_unique_users = len(user_item_ratings['userId'].unique())\n",
    "number_of_unique_movies = len(user_item_ratings['movieId'].unique())\n",
    "number_of_ratings = len(user_item_ratings)\n",
    "#print user_item_ratings\n",
    "print number_of_unique_users\n",
    "print number_of_unique_movies\n",
    "\n",
    "ratingsMatrix=pd.pivot_table(user_item_ratings, values='rating', fill_value=0, columns='userId', index='movieId')#\n",
    "#print ratingsMatrix.head\n",
    "\n",
    "ratingsMatrix2=ratingsMatrix.iloc[:5000,:]\n",
    "\n",
    "print ratingsMatrix2.shape\n",
    "\n",
    "did_rate = (ratingsMatrix != 0) * 1\n",
    "\n",
    "\n",
    "#n_movies=number_of_unique_movies\n",
    "n_movies=ratingsMatrix.shape[0]\n",
    "n_users=number_of_unique_users\n",
    "\n",
    "\n",
    "#normalize_ratings from https://nikhilwins.wordpress.com/2015/09/18/movie-recommendations-how-does-netflix-do-it-a-9-step-coding-intuitive-guide-into-collaborative-filtering/\n",
    "def normalize_ratings(ratings, did_rate):\n",
    "    num_movies = ratings.shape[0]\n",
    "    ratings_mean = np.zeros(shape = (num_movies, 1))\n",
    "    ratings_norm = np.zeros(shape = ratings.shape)\n",
    "    \n",
    "    for i in range(0, num_movies):\n",
    "        # Get all the indexes where there is a 1\n",
    "        idx = np.where(did_rate.iloc[i,:] ==1)[0]\n",
    "        # Calculate mean rating of ith movie only from users that gave a rating\n",
    "        ratings_mean[i] = np.mean(ratings.iloc[i, idx])\n",
    "         #ratings_mean[i]\n",
    "        ratings_norm[i, idx] = ratings.iloc[i, idx] - ratings_mean[i]\n",
    "        #(EKC: make sure these indices aren't off by one)\n",
    "        #print i\n",
    "    return (ratings_norm, ratings_mean)\n",
    "\n",
    "ratings_norm, ratings_mean = normalize_ratings(ratingsMatrix, did_rate)\n",
    "\n",
    "did_rate=did_rate.as_matrix()\n",
    "\n",
    "svd = TruncatedSVD(n_components=3, n_iter=10, random_state=42)\n",
    "X_tr = svd.fit_transform(ratings_norm)\n",
    "print X_tr.shape\n",
    "\n",
    "X_o = svd.inverse_transform(X_tr)\n",
    "#that would be the predicted ratings\n",
    "difference = X_o*did_rate-ratings_norm\n",
    "cost = np.sum((difference)**2)/2\n",
    "print cost"
   ]
  },
  {
   "cell_type": "code",
   "execution_count": 2,
   "metadata": {
    "collapsed": false
   },
   "outputs": [],
   "source": [
    "movie_info = pd.read_csv('movies.csv', sep=',')\n"
   ]
  },
  {
   "cell_type": "code",
   "execution_count": 3,
   "metadata": {
    "collapsed": false
   },
   "outputs": [
    {
     "name": "stdout",
     "output_type": "stream",
     "text": [
      "set(['Mystery', 'Drama', 'Western', 'Sci-Fi', 'Horror', 'Film-Noir', 'Crime', 'Romance', 'Fantasy', 'Musical', 'Animation', 'War', 'Adventure', 'Action', '(no genres listed)', 'Comedy', 'Documentary', 'Children', 'Thriller', 'IMAX'])\n",
      "Mystery\n"
     ]
    }
   ],
   "source": [
    "\n",
    "#need a list of all the genres--basically just go through the rows and add whichever ones are unique\n",
    "all_genres=set()\n",
    "for row in range(0,movie_info.shape[0]):\n",
    "    genres=movie_info['genres'][row]\n",
    "    genres_split=genres.split('|')\n",
    "    all_genres.update(genres_split)\n",
    "print all_genres\n",
    "all_genres=list(all_genres)\n",
    "print all_genres[0]\n",
    "    \n"
   ]
  },
  {
   "cell_type": "code",
   "execution_count": 4,
   "metadata": {
    "collapsed": true
   },
   "outputs": [],
   "source": [
    "#just for kicks let's see how many different tags there are, maybe can use those too\n",
    "movie_tags = pd.read_csv('tags.csv', sep=',')\n"
   ]
  },
  {
   "cell_type": "code",
   "execution_count": 5,
   "metadata": {
    "collapsed": false
   },
   "outputs": [
    {
     "name": "stdout",
     "output_type": "stream",
     "text": [
      "['uganda' 'Ron Howard' 'music' 'weird' 'Steve Martin' 'action' 'anime'\n",
      " 'kung fu' 'drama' 'indie']\n",
      "[  12  776  802 1274]\n",
      "      userId  movieId    tag   timestamp\n",
      "12        68     2174  music  1249808064\n",
      "776      531     1088  music  1243454488\n",
      "802      531     6863  music  1243454317\n",
      "1274     583   112552  music  1430526450\n",
      "4\n"
     ]
    }
   ],
   "source": [
    "\n",
    "\n",
    "all_unique_tags=movie_tags['tag'].unique() \n",
    "print all_unique_tags[10:20] \n",
    "inds=np.where(movie_tags['tag']==all_unique_tags[12]) \n",
    "inds= np.array(inds) \n",
    "print inds[0] \n",
    "print movie_tags.iloc[inds[0],:] \n",
    "print len(inds[0]) \n",
    "tag_frequencies=[] \n",
    "for r in range(0,len(all_unique_tags)): \n",
    "    inds=np.where(movie_tags['tag']==all_unique_tags[r]) \n",
    "    freq=len(inds[0]) \n",
    "    tag_frequencies.append(freq)\n"
   ]
  },
  {
   "cell_type": "code",
   "execution_count": 6,
   "metadata": {
    "collapsed": false
   },
   "outputs": [],
   "source": [
    "tags_in_descriptions=pd.pivot_table(movie_tags, values='timestamp', fill_value=0, columns='tag', index='movieId')#\n",
    "tags_in_desctiptions=(tags_in_descriptions != 0) * 1"
   ]
  },
  {
   "cell_type": "code",
   "execution_count": 7,
   "metadata": {
    "collapsed": false
   },
   "outputs": [
    {
     "name": "stdout",
     "output_type": "stream",
     "text": [
      "61\n",
      "0\n",
      "610\n"
     ]
    }
   ],
   "source": [
    "#print tags_in_descriptions.shape\n",
    "#print tags_in_descriptions.iloc[:,0]\n",
    "movies_in_tags=movie_tags['movieId'].unique()\n",
    "movies_in_ratings=user_item_ratings['movieId'].unique()\n",
    "mit=set(movies_in_tags)\n",
    "mir=set(movies_in_ratings)\n",
    "\n",
    "users_in_tags=movie_tags['userId'].unique()\n",
    "users_in_ratings=user_item_ratings['userId'].unique()\n",
    "uit=set(users_in_tags)\n",
    "uir=set(users_in_ratings)\n",
    "\n",
    "differentu=uit-uir\n",
    "differentu2=uir-uit\n",
    "bothu=uit&uir\n",
    "#print different\n",
    "#print different2\n",
    "print len(bothu) #=630\n",
    "print len(differentu)\n",
    "print len(differentu2)\n",
    "\n",
    "#a LOT of movies, and most users, don't ovelap... \n"
   ]
  },
  {
   "cell_type": "markdown",
   "metadata": {},
   "source": [
    "\n",
    "\n",
    "    \n"
   ]
  },
  {
   "cell_type": "code",
   "execution_count": null,
   "metadata": {
    "collapsed": false
   },
   "outputs": [],
   "source": []
  },
  {
   "cell_type": "code",
   "execution_count": 8,
   "metadata": {
    "collapsed": false
   },
   "outputs": [
    {
     "name": "stdout",
     "output_type": "stream",
     "text": [
      "(9125, 20)\n",
      "set([148482, 144172, 55946, 123663, 111249, 111251, 6830, 110871, 103449, 6683, 102469, 4763, 25927, 112550, 7335, 114459, 5289, 118700, 8236, 8494, 123695, 5169, 164979, 82313, 155064, 160954, 127144, 8766, 8767, 132800, 132547, 132549, 48711, 7243, 161582, 114254, 56015, 161336, 131796, 34517, 41585, 5984, 111505, 4712, 42217, 132458, 128235, 127212, 115139, 49917, 163056, 164977, 138610, 6515, 107636, 94969, 158783, 39421, 6229])\n",
      "set([])\n"
     ]
    }
   ],
   "source": [
    "n_features=len(all_genres)\n",
    " \n",
    "n_movies_genres=len(movie_info['movieId'].unique())\n",
    "genres_in_descriptions=pd.DataFrame(np.zeros([n_movies_genres, n_features]))\n",
    "print genres_in_descriptions.shape\n",
    "#just want to combine the movies\n",
    "print set(movie_info['movieId'].unique()) - set(user_item_ratings['movieId'].unique())\n",
    "print set(user_item_ratings['movieId'].unique()) - set(movie_info['movieId'].unique())\n",
    "#some movies have genres but haven't been rated. ignoring them for now.\n",
    "# DELETE UNRATED MOVIES\n",
    "#this is slow but ony has to happen once\n",
    "n_movies=len(user_item_ratings['movieId'].unique())\n",
    "genresMatrix=np.zeros([n_movies, n_features])\n",
    "#print ratings_norm.shape\n",
    "for ii in range(0,n_movies):\n",
    "    thisMovie=ratingsMatrix.index.values[ii]\n",
    "    Index=np.where(movie_info['movieId']==thisMovie)\n",
    "    genres=movie_info['genres'][Index[0]]\n",
    "    #genres_split=genres.split('|')\n",
    "    gInd=0\n",
    "    for g in all_genres:\n",
    "        if g in str(genres):\n",
    "            genresMatrix[ii, gInd]=1\n",
    "        gInd=gInd+1\n",
    "    "
   ]
  },
  {
   "cell_type": "raw",
   "metadata": {},
   "source": [
    "print genresMatrix"
   ]
  },
  {
   "cell_type": "code",
   "execution_count": 9,
   "metadata": {
    "collapsed": false
   },
   "outputs": [
    {
     "name": "stdout",
     "output_type": "stream",
     "text": [
      "[0]\n",
      "0    Adventure|Animation|Children|Comedy|Fantasy\n",
      "Name: genres, dtype: object\n",
      "0    Adventure|Animation|Children|Comedy|Fantasy\n",
      "Name: genres, dtype: object\n",
      "True\n"
     ]
    }
   ],
   "source": [
    "ii=0\n",
    "thisMovie=ratingsMatrix.index.values[ii]\n",
    "Index=np.where(movie_info['movieId']==thisMovie)\n",
    "genres=movie_info['genres'][Index[0]]\n",
    "print Index[0]\n",
    "print movie_info['genres'][Index[0]]\n",
    "print str(genres)\n",
    "print 'Animation' in str(genres)"
   ]
  },
  {
   "cell_type": "code",
   "execution_count": 10,
   "metadata": {
    "collapsed": false
   },
   "outputs": [],
   "source": [
    "#convert ratings to probability of liking movie\n",
    "# first z-score them (express each rating in terms of the standard deviation of that user's ratings)\n",
    "stddevs=np.std(ratings_norm,axis=0)\n",
    "ratings_zscored=ratings_norm/(stddevs)\n",
    "# then get the probability (note that this assumes the ratings are distributed normally)\n",
    "from scipy.stats import norm\n",
    "probs=norm.cdf(ratings_zscored)\n"
   ]
  },
  {
   "cell_type": "code",
   "execution_count": 11,
   "metadata": {
    "collapsed": false
   },
   "outputs": [],
   "source": [
    "#bayesian model\n",
    "\n",
    "ProbabilityOfLikingMovies=probs[1:,:].T # \n",
    "wordsInAllDescriptions=genresMatrix[1:,:]\n",
    "#(leave one out for testing--later decide on the best cross-validation method)\n",
    "\n",
    "#log likelihood of a user liking a movie is the sum of P(like) for all movies containing each word in the movie's description\n",
    "# movie's description=genre (and tags? but user would not have tagged a new movie. Can include all tags for each movie?)\n",
    "weightedP=ProbabilityOfLikingMovies.dot(wordsInAllDescriptions) #\n",
    "                #(1-by-movies)         *  (movies-by-featurewords)\n",
    "                #(users-by-movies)         *  (movies-by-featurewords)\n",
    "            \n",
    "wordsInMovieDescription=genresMatrix[0,:]\n",
    "    \n",
    "logPLikeMovie=weightedP.dot(wordsInMovieDescription)\n",
    "#(users-by-features * features-by-1?)\n",
    "#sum the probability of liking each movie that contains each word--this is a matrix multiplication, right?\n"
   ]
  },
  {
   "cell_type": "code",
   "execution_count": 12,
   "metadata": {
    "collapsed": false
   },
   "outputs": [
    {
     "name": "stdout",
     "output_type": "stream",
     "text": [
      "(671,)\n"
     ]
    },
    {
     "data": {
      "text/plain": [
       "[<matplotlib.lines.Line2D at 0x12b4d150>]"
      ]
     },
     "execution_count": 12,
     "metadata": {},
     "output_type": "execute_result"
    }
   ],
   "source": [
    " print logPLikeMovie.shape\n",
    "    \n",
    "plt.plot(logPLikeMovie) #(not sure why that doesn't work)\n",
    "# logPLikeMovie should be similar to ratings (as well as they can be predicted by genre)--might be off by scale/threshold"
   ]
  },
  {
   "cell_type": "code",
   "execution_count": 16,
   "metadata": {
    "collapsed": false
   },
   "outputs": [
    {
     "name": "stdout",
     "output_type": "stream",
     "text": [
      "True\n"
     ]
    }
   ],
   "source": [
    "x=100\n",
    "print x % 100 == 0"
   ]
  },
  {
   "cell_type": "code",
   "execution_count": 23,
   "metadata": {
    "collapsed": false
   },
   "outputs": [
    {
     "name": "stdout",
     "output_type": "stream",
     "text": [
      "0\n",
      "50\n",
      "100\n",
      "150\n",
      "200\n",
      "250\n",
      "300\n",
      "350\n",
      "400\n",
      "450\n",
      "500\n",
      "550\n",
      "600\n",
      "650\n",
      "700\n",
      "750\n",
      "800\n",
      "850\n",
      "900\n",
      "950\n",
      "1000\n",
      "1050\n",
      "1100\n",
      "1150\n",
      "1200\n",
      "1250\n",
      "1300\n",
      "1350\n",
      "1400\n",
      "1450\n",
      "1500\n",
      "1550\n",
      "1600\n",
      "1650\n",
      "1700\n",
      "1750\n",
      "1800\n",
      "1850\n",
      "1900\n",
      "1950\n",
      "2000\n",
      "2050\n",
      "2100\n",
      "2150\n",
      "2200\n",
      "2250\n",
      "2300\n",
      "2350\n",
      "2400\n",
      "2450\n",
      "2500\n",
      "2550\n",
      "2600\n",
      "2650\n",
      "2700\n",
      "2750\n",
      "2800\n",
      "2850\n",
      "2900\n",
      "2950\n",
      "3000\n",
      "3050\n",
      "3100\n",
      "3150\n",
      "3200\n",
      "3250\n",
      "3300\n",
      "3350\n",
      "3400\n",
      "3450\n",
      "3500\n",
      "3550\n",
      "3600\n",
      "3650\n",
      "3700\n",
      "3750\n",
      "3800\n",
      "3850\n",
      "3900\n",
      "3950\n",
      "4000\n",
      "4050\n",
      "4100\n",
      "4150\n",
      "4200\n",
      "4250\n",
      "4300\n",
      "4350\n",
      "4400\n",
      "4450\n",
      "4500\n",
      "4550\n",
      "4600\n",
      "4650\n",
      "4700\n",
      "4750\n",
      "4800\n",
      "4850\n",
      "4900\n",
      "4950\n",
      "5000\n",
      "5050\n",
      "5100\n",
      "5150\n",
      "5200\n",
      "5250\n",
      "5300\n",
      "5350\n",
      "5400\n",
      "5450\n",
      "5500\n",
      "5550\n",
      "5600\n",
      "5650\n",
      "5700\n",
      "5750\n",
      "5800\n",
      "5850\n",
      "5900\n",
      "5950\n",
      "6000\n",
      "6050\n",
      "6100\n",
      "6150\n",
      "6200\n",
      "6250\n",
      "6300\n",
      "6350\n",
      "6400\n",
      "6450\n",
      "6500\n",
      "6550\n",
      "6600\n",
      "6650\n",
      "6700\n",
      "6750\n",
      "6800\n",
      "6850\n",
      "6900\n",
      "6950\n",
      "7000\n",
      "7050\n",
      "7100\n",
      "7150\n",
      "7200\n",
      "7250\n",
      "7300\n",
      "7350\n",
      "7400\n",
      "7450\n",
      "7500\n",
      "7550\n",
      "7600\n",
      "7650\n",
      "7700\n",
      "7750\n",
      "7800\n",
      "7850\n",
      "7900\n",
      "7950\n",
      "8000\n",
      "8050\n",
      "8100\n",
      "8150\n",
      "8200\n",
      "8250\n",
      "8300\n",
      "8350\n",
      "8400\n",
      "8450\n",
      "8500\n",
      "8550\n",
      "8600\n",
      "8650\n",
      "8700\n",
      "8750\n",
      "8800\n",
      "8850\n",
      "8900\n",
      "8950\n",
      "9000\n",
      "9050\n"
     ]
    }
   ],
   "source": [
    "# do this for every movie\n",
    "logPAllMovies=np.zeros(ratingsMatrix.T.shape)\n",
    "for ii in range(0,n_movies):\n",
    "    ProbabilityOfLikingMovies=np.delete(probs, ii, 0).T # \n",
    "    wordsInAllDescriptions=np.delete(genresMatrix, ii, 0)\n",
    "    #(leave one out for testing--later decide on the best cross-validation method)\n",
    "\n",
    "    #log likelihood of a user liking a movie is the sum of P(like) for all movies containing each word in the movie's description\n",
    "    # movie's description=genre (and tags? but user would not have tagged a new movie. Can include all tags for each movie?)\n",
    "    weightedP=ProbabilityOfLikingMovies.dot(wordsInAllDescriptions) #\n",
    "                    #(1-by-movies)         *  (movies-by-featurewords)\n",
    "                    #(users-by-movies)         *  (movies-by-featurewords)\n",
    "            \n",
    "    wordsInMovieDescription=genresMatrix[ii,:]\n",
    "    \n",
    "    logPLikeMovie=weightedP.dot(wordsInMovieDescription)\n",
    "    #(users-by-features * features-by-1?)\n",
    "    \n",
    "    logPAllMovies[:,ii]=logPLikeMovie\n",
    "    \n",
    "    #sum the probability of liking each movie that contains each word--this is a matrix multiplication, right?\n",
    "    if ii % 50 == 0:\n",
    "        print ii\n",
    "\n",
    "    \n",
    "\n",
    "\n"
   ]
  },
  {
   "cell_type": "code",
   "execution_count": 24,
   "metadata": {
    "collapsed": false
   },
   "outputs": [
    {
     "name": "stdout",
     "output_type": "stream",
     "text": [
      "(671,)\n"
     ]
    }
   ],
   "source": [
    "print logPLikeMovie.shape"
   ]
  },
  {
   "cell_type": "code",
   "execution_count": 25,
   "metadata": {
    "collapsed": false
   },
   "outputs": [],
   "source": [
    "    \n",
    "#convert the log likelihoods to z scores and then to ratings--fill in the ratings matrix \n",
    "predictedRatingsNorm=logPAllMovies.T\n",
    "PRNmeans=np.mean(predictedRatingsNorm, axis=0)\n",
    "PRNstddevs=np.std(predictedRatingsNorm,axis=0)\n",
    "\n",
    "predictedRatingsNorm=(predictedRatingsNorm-PRNmeans)/(PRNstddevs)\n",
    "#scale by the standard rating deviation\n",
    "predictedRatingsNorm=predictedRatingsNorm * stddevs #(make sure that's the right way to actually do this multiplication)\n",
    "\n"
   ]
  },
  {
   "cell_type": "code",
   "execution_count": 27,
   "metadata": {
    "collapsed": false
   },
   "outputs": [
    {
     "name": "stdout",
     "output_type": "stream",
     "text": [
      "[[ 0.0362708   0.04919502  0.03236356 ...,  0.02221964  0.04224194\n",
      "   0.04633192]\n",
      " [-0.06441377 -0.0864576  -0.05706423 ..., -0.03900042 -0.07440113\n",
      "  -0.07860348]\n",
      " [ 0.00276306  0.00317367  0.0024114  ...,  0.00163404  0.00306177\n",
      "   0.0031217 ]\n",
      " ..., \n",
      " [-0.04013762 -0.05453305 -0.03572076 ..., -0.02452507 -0.04664094\n",
      "  -0.04992248]\n",
      " [ 0.05996287  0.08142199  0.05333464 ...,  0.03654046  0.06956238\n",
      "   0.07443439]\n",
      " [-0.11408373 -0.15403039 -0.10136709 ..., -0.06932304 -0.13229217\n",
      "  -0.14159482]]\n"
     ]
    }
   ],
   "source": [
    "print predictedRatingsNorm"
   ]
  },
  {
   "cell_type": "code",
   "execution_count": 31,
   "metadata": {
    "collapsed": false
   },
   "outputs": [],
   "source": [
    "# fill in missing data in ratingsNorm with predictedRatingsNorm, then do the matrix factorization\n",
    "\n",
    "denseMatrix=np.empty_like(predictedRatingsNorm) #this is probably not how this is done\n",
    "denseMatrix[:]=predictedRatingsNorm\n",
    "Inds=np.where(did_rate==1)\n",
    "denseMatrix[Inds]=ratings_norm[Inds]#probably all this syntax is off\n",
    "\n",
    "# then do the collab filter\n",
    "svd = TruncatedSVD(n_components=3, n_iter=10, random_state=42)\n",
    "finalPredictedRatings = svd.fit_transform(denseMatrix)\n",
    "\n",
    "#how well does it do?\n",
    " "
   ]
  },
  {
   "cell_type": "code",
   "execution_count": null,
   "metadata": {
    "collapsed": true
   },
   "outputs": [],
   "source": []
  }
 ],
 "metadata": {
  "kernelspec": {
   "display_name": "Python 2",
   "language": "python",
   "name": "python2"
  }
 },
 "nbformat": 4,
 "nbformat_minor": 0
}
