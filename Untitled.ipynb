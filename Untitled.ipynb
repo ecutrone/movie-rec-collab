{
 "cells": [
  {
   "cell_type": "code",
   "execution_count": 2,
   "metadata": {
    "collapsed": false
   },
   "outputs": [
    {
     "name": "stdout",
     "output_type": "stream",
     "text": [
      "671\n",
      "9066\n"
     ]
    }
   ],
   "source": [
    "#combine content and collaborative filter\n",
    "#Method: use content filtering (based on movie genre but add more features later) to predict users' ratings\n",
    "# of unrated films, then use that dense matrix for collaborative filtering (matrix factorization)\n",
    "\n",
    "import csv\n",
    "import string\n",
    "import numpy as np\n",
    "import pandas as pd\n",
    "import matplotlib.pyplot as plt\n",
    "import sklearn as sk\n",
    "from scipy import optimize\n",
    "from sklearn.decomposition import TruncatedSVD\n",
    "from sklearn.cross_validation import train_test_split\n",
    "\n",
    "#some code from http://alexabate.github.io/2016/11/05/movie-lens.html\n",
    "#some code from https://nikhilwins.wordpress.com/2015/09/18/movie-recommendations-how-does-netflix-do-it-a-9-step-coding-intuitive-guide-into-collaborative-filtering/\n",
    "\n",
    "user_item_ratings = pd.read_csv('ratings.csv', sep=',')\n",
    "#user_item_ratings.head()\n",
    "number_of_unique_users = len(user_item_ratings['userId'].unique())\n",
    "number_of_unique_movies = len(user_item_ratings['movieId'].unique())\n",
    "number_of_ratings = len(user_item_ratings)\n",
    "#print user_item_ratings\n",
    "print number_of_unique_users\n",
    "print number_of_unique_movies\n",
    "\n",
    "ratingsMatrix=pd.pivot_table(user_item_ratings, values='rating', fill_value=0, columns='userId', index='movieId')#\n",
    "\n",
    "\n",
    "did_rate = (ratingsMatrix != 0) * 1\n",
    "\n",
    "\n",
    "#n_movies=number_of_unique_movies\n",
    "n_movies=ratingsMatrix.shape[0]\n",
    "n_users=number_of_unique_users\n",
    "\n",
    "\n",
    "#normalize_ratings from https://nikhilwins.wordpress.com/2015/09/18/movie-recommendations-how-does-netflix-do-it-a-9-step-coding-intuitive-guide-into-collaborative-filtering/\n",
    "def normalize_ratings(ratings, did_rate):\n",
    "    num_movies = ratings.shape[0]\n",
    "    ratings_mean = np.zeros(shape = (num_movies, 1))\n",
    "    ratings_norm = np.zeros(shape = ratings.shape)\n",
    "    \n",
    "    for i in range(0, num_movies):\n",
    "        # Get all the indexes where there is a 1\n",
    "        idx = np.where(did_rate.iloc[i,:] ==1)[0]\n",
    "        # Calculate mean rating of ith movie only from users that gave a rating\n",
    "        ratings_mean[i] = np.mean(ratings.iloc[i, idx])\n",
    "         #ratings_mean[i]\n",
    "        ratings_norm[i, idx] = ratings.iloc[i, idx] - ratings_mean[i]\n",
    "        #(EKC: make sure these indices aren't off by one)\n",
    "        #print i\n",
    "    return (ratings_norm, ratings_mean)\n",
    "\n",
    "ratings_norm, ratings_mean = normalize_ratings(ratingsMatrix, did_rate)\n",
    "\n",
    "\n",
    "#convert ratings to probability of liking movie\n",
    "# first z-score them (express each rating in terms of the standard deviation of that user's ratings)\n",
    "stddevs=np.std(ratings_norm,axis=0)\n",
    "ratings_zscored=ratings_norm/(stddevs)\n",
    "# then get the probability (note that this assumes the ratings are distributed normally)\n",
    "from scipy.stats import norm\n",
    "probs=norm.cdf(ratings_zscored)"
   ]
  },
  {
   "cell_type": "code",
   "execution_count": 3,
   "metadata": {
    "collapsed": false
   },
   "outputs": [
    {
     "name": "stdout",
     "output_type": "stream",
     "text": [
      "set(['Mystery', 'Drama', 'Western', 'Sci-Fi', 'Horror', 'Film-Noir', 'Crime', 'Romance', 'Fantasy', 'Musical', 'Animation', 'War', 'Adventure', 'Action', '(no genres listed)', 'Comedy', 'Documentary', 'Children', 'Thriller', 'IMAX'])\n",
      "Mystery\n"
     ]
    }
   ],
   "source": [
    "movie_info = pd.read_csv('movies.csv', sep=',')\n",
    "\n",
    "#need a list of all the genres--basically just go through the rows and add whichever ones are unique\n",
    "all_genres=set()\n",
    "for row in range(0,movie_info.shape[0]):\n",
    "    genres=movie_info['genres'][row]\n",
    "    genres_split=genres.split('|')\n",
    "    all_genres.update(genres_split)\n",
    "print all_genres\n",
    "all_genres=list(all_genres)\n",
    "print all_genres[0]\n",
    "    "
   ]
  },
  {
   "cell_type": "code",
   "execution_count": 4,
   "metadata": {
    "collapsed": false
   },
   "outputs": [
    {
     "name": "stdout",
     "output_type": "stream",
     "text": [
      "(9125, 20)\n",
      "set([148482, 144172, 55946, 123663, 111249, 111251, 6830, 110871, 103449, 6683, 102469, 4763, 25927, 112550, 7335, 114459, 5289, 118700, 8236, 8494, 123695, 5169, 164979, 82313, 155064, 160954, 127144, 8766, 8767, 132800, 132547, 132549, 48711, 7243, 161582, 114254, 56015, 161336, 131796, 34517, 41585, 5984, 111505, 4712, 42217, 132458, 128235, 127212, 115139, 49917, 163056, 164977, 138610, 6515, 107636, 94969, 158783, 39421, 6229])\n",
      "set([])\n"
     ]
    },
    {
     "ename": "IndexError",
     "evalue": "index 9066 is out of bounds for axis 0 with size 9066",
     "output_type": "error",
     "traceback": [
      "\u001b[1;31m---------------------------------------------------------------------------\u001b[0m",
      "\u001b[1;31mIndexError\u001b[0m                                Traceback (most recent call last)",
      "\u001b[1;32m<ipython-input-4-24d24886a06b>\u001b[0m in \u001b[0;36m<module>\u001b[1;34m()\u001b[0m\n\u001b[0;32m     20\u001b[0m     \u001b[1;32mfor\u001b[0m \u001b[0mg\u001b[0m \u001b[1;32min\u001b[0m \u001b[0mall_genres\u001b[0m\u001b[1;33m:\u001b[0m\u001b[1;33m\u001b[0m\u001b[0m\n\u001b[0;32m     21\u001b[0m         \u001b[1;32mif\u001b[0m \u001b[0mg\u001b[0m \u001b[1;32min\u001b[0m \u001b[0mstr\u001b[0m\u001b[1;33m(\u001b[0m\u001b[0mgenres\u001b[0m\u001b[1;33m)\u001b[0m\u001b[1;33m:\u001b[0m\u001b[1;33m\u001b[0m\u001b[0m\n\u001b[1;32m---> 22\u001b[1;33m             \u001b[0mgenresMatrix\u001b[0m\u001b[1;33m[\u001b[0m\u001b[0mIndex\u001b[0m\u001b[1;33m,\u001b[0m \u001b[0mgInd\u001b[0m\u001b[1;33m]\u001b[0m\u001b[1;33m=\u001b[0m\u001b[1;36m1\u001b[0m\u001b[1;33m\u001b[0m\u001b[0m\n\u001b[0m\u001b[0;32m     23\u001b[0m         \u001b[0mgInd\u001b[0m\u001b[1;33m=\u001b[0m\u001b[0mgInd\u001b[0m\u001b[1;33m+\u001b[0m\u001b[1;36m1\u001b[0m\u001b[1;33m\u001b[0m\u001b[0m\n",
      "\u001b[1;31mIndexError\u001b[0m: index 9066 is out of bounds for axis 0 with size 9066"
     ]
    }
   ],
   "source": [
    "n_features=len(all_genres)\n",
    " \n",
    "n_movies_genres=len(movie_info['movieId'].unique())\n",
    "genres_in_descriptions=pd.DataFrame(np.zeros([n_movies_genres, n_features]))\n",
    "print genres_in_descriptions.shape\n",
    "#just want to combine the movies\n",
    "print set(movie_info['movieId'].unique()) - set(user_item_ratings['movieId'].unique())\n",
    "print set(user_item_ratings['movieId'].unique()) - set(movie_info['movieId'].unique())\n",
    "#some movies have genres but haven't been rated. ignoring them for now.\n",
    "genresMatrix=np.zeros([n_movies, n_features])\n",
    "#this is slow but ony has to happen once\n",
    "n_movies=len(user_item_ratings['movieId'].unique())\n",
    "#print ratings_norm.shape\n",
    "for ii in range(0,n_movies-1):\n",
    "    thisMovie=ratingsMatrix.index.values[ii]\n",
    "    Index=np.where(movie_info['movieId']==thisMovie)\n",
    "    genres=movie_info['genres'][Index[0]]\n",
    "    #genres_split=genres.split('|')\n",
    "    gInd=0\n",
    "    for g in all_genres:\n",
    "        if g in str(genres):\n",
    "            genresMatrix[Index, gInd]=1\n",
    "        gInd=gInd+1"
   ]
  },
  {
   "cell_type": "code",
   "execution_count": null,
   "metadata": {
    "collapsed": true
   },
   "outputs": [],
   "source": []
  }
 ],
 "metadata": {
  "kernelspec": {
   "display_name": "Python 2",
   "language": "python",
   "name": "python2"
  },
  "language_info": {
   "codemirror_mode": {
    "name": "ipython",
    "version": 2
   },
   "file_extension": ".py",
   "mimetype": "text/x-python",
   "name": "python",
   "nbconvert_exporter": "python",
   "pygments_lexer": "ipython2",
   "version": "2.7.10"
  }
 },
 "nbformat": 4,
 "nbformat_minor": 0
}
