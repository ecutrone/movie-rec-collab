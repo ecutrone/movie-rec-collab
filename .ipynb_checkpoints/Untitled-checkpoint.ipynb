{
 "cells": [
  {
   "cell_type": "code",
   "execution_count": null,
   "metadata": {
    "collapsed": true
   },
   "outputs": [],
   "source": [
    "#combine content and collaborative filter\n",
    "#Method: use content filtering (based on movie genre but add more features later) to predict users' ratings\n",
    "# of unrated films, then use that dense matrix for collaborative filtering (matrix factorization)\n",
    "\n",
    "import csv\n",
    "import string\n",
    "import numpy as np\n",
    "import pandas as pd\n",
    "import matplotlib.pyplot as plt\n",
    "import sklearn as sk\n",
    "from scipy import optimize\n",
    "from sklearn.decomposition import TruncatedSVD\n",
    "from sklearn.cross_validation import train_test_split\n",
    "\n",
    "#some code from http://alexabate.github.io/2016/11/05/movie-lens.html\n",
    "#some code from https://nikhilwins.wordpress.com/2015/09/18/movie-recommendations-how-does-netflix-do-it-a-9-step-coding-intuitive-guide-into-collaborative-filtering/\n",
    "\n",
    "user_item_ratings = pd.read_csv('ratings.csv', sep=',')\n",
    "#user_item_ratings.head()\n",
    "number_of_unique_users = len(user_item_ratings['userId'].unique())\n",
    "number_of_unique_movies = len(user_item_ratings['movieId'].unique())\n",
    "number_of_ratings = len(user_item_ratings)\n",
    "#print user_item_ratings\n",
    "print number_of_unique_users\n",
    "print number_of_unique_movies\n",
    "\n",
    "ratingsMatrix=pd.pivot_table(user_item_ratings, values='rating', fill_value=0, columns='userId', index='movieId')#\n",
    "\n",
    "\n",
    "did_rate = (ratingsMatrix != 0) * 1\n",
    "\n",
    "\n",
    "#n_movies=number_of_unique_movies\n",
    "n_movies=ratingsMatrix.shape[0]\n",
    "n_users=number_of_unique_users\n",
    "\n",
    "\n",
    "#normalize_ratings from https://nikhilwins.wordpress.com/2015/09/18/movie-recommendations-how-does-netflix-do-it-a-9-step-coding-intuitive-guide-into-collaborative-filtering/\n",
    "def normalize_ratings(ratings, did_rate):\n",
    "    num_movies = ratings.shape[0]\n",
    "    ratings_mean = np.zeros(shape = (num_movies, 1))\n",
    "    ratings_norm = np.zeros(shape = ratings.shape)\n",
    "    \n",
    "    for i in range(0, num_movies):\n",
    "        # Get all the indexes where there is a 1\n",
    "        idx = np.where(did_rate.iloc[i,:] ==1)[0]\n",
    "        # Calculate mean rating of ith movie only from users that gave a rating\n",
    "        ratings_mean[i] = np.mean(ratings.iloc[i, idx])\n",
    "         #ratings_mean[i]\n",
    "        ratings_norm[i, idx] = ratings.iloc[i, idx] - ratings_mean[i]\n",
    "        #(EKC: make sure these indices aren't off by one)\n",
    "        #print i\n",
    "    return (ratings_norm, ratings_mean)\n",
    "\n",
    "ratings_norm, ratings_mean = normalize_ratings(ratingsMatrix, did_rate)\n",
    "\n",
    "\n",
    "#convert ratings to probability of liking movie\n",
    "# first z-score them (express each rating in terms of the standard deviation of that user's ratings)\n",
    "stddevs=np.std(ratings_norm,axis=0)\n",
    "ratings_zscored=ratings_norm/(stddevs)\n",
    "# then get the probability (note that this assumes the ratings are distributed normally)\n",
    "from scipy.stats import norm\n",
    "probs=norm.cdf(ratings_zscored)"
   ]
  },
  {
   "cell_type": "code",
   "execution_count": null,
   "metadata": {
    "collapsed": true
   },
   "outputs": [],
   "source": [
    "movie_info = pd.read_csv('movies.csv', sep=',')\n",
    "\n",
    "#need a list of all the genres--basically just go through the rows and add whichever ones are unique\n",
    "all_genres=set()\n",
    "for row in range(0,movie_info.shape[0]):\n",
    "    genres=movie_info['genres'][row]\n",
    "    genres_split=genres.split('|')\n",
    "    all_genres.update(genres_split)\n",
    "print all_genres\n",
    "all_genres=list(all_genres)\n",
    "print all_genres[0]\n",
    "    "
   ]
  }
 ],
 "metadata": {
  "kernelspec": {
   "display_name": "Python 2",
   "language": "python",
   "name": "python2"
  },
  "language_info": {
   "codemirror_mode": {
    "name": "ipython",
    "version": 2
   },
   "file_extension": ".py",
   "mimetype": "text/x-python",
   "name": "python",
   "nbconvert_exporter": "python",
   "pygments_lexer": "ipython2",
   "version": "2.7.10"
  }
 },
 "nbformat": 4,
 "nbformat_minor": 0
}
